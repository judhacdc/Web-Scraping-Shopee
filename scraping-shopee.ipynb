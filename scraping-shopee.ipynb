{
 "cells": [
  {
   "cell_type": "code",
   "execution_count": 2,
   "metadata": {},
   "outputs": [],
   "source": [
    "import pandas as pd\n",
    "from bs4 import BeautifulSoup\n",
    "from selenium import webdriver\n",
    "from selenium.webdriver.chrome.options import Options"
   ]
  },
  {
   "cell_type": "code",
   "execution_count": 3,
   "metadata": {},
   "outputs": [],
   "source": [
    "#Link Digimap\n",
    "main_link = 'https://shopee.co.id/shop/255563049/search'\n",
    "path = 'C:/Users/userrrrrrr/OneDrive/Personal/Tutorial/Script/bin/chromedriver.exe'\n",
    "\n",
    "# Customize chrome display\n",
    "chrome_options = Options()\n",
    "chrome_options.add_argument('--no-sandbox')\n",
    "#chrome_options.add_argument('--headless')\n",
    "chrome_options.add_argument('disable-notifications')\n",
    "chrome_options.add_argument('--disable-infobars')\n",
    "\n",
    "driver = webdriver.Chrome(executable_path = path, options=chrome_options)\n",
    "driver.get(main_link)"
   ]
  },
  {
   "cell_type": "code",
   "execution_count": 4,
   "metadata": {},
   "outputs": [],
   "source": [
    "html = driver.execute_script(\"return document.getElementsByTagName('html')[0].innerHTML\")\n",
    "soup = BeautifulSoup(html,\"html.parser\")"
   ]
  },
  {
   "cell_type": "code",
   "execution_count": 5,
   "metadata": {},
   "outputs": [
    {
     "data": {
      "text/plain": [
       "'Apple Pencil 2nd Generation'"
      ]
     },
     "execution_count": 5,
     "metadata": {},
     "output_type": "execute_result"
    }
   ],
   "source": [
    "#Product Name\n",
    "product_name = soup.find_all('div', class_='_10Wbs- _5SSWfi UjjMrh')\n",
    "product_name[0].get_text()"
   ]
  },
  {
   "cell_type": "code",
   "execution_count": 6,
   "metadata": {},
   "outputs": [
    {
     "data": {
      "text/plain": [
       "'Rp2.499.000'"
      ]
     },
     "execution_count": 6,
     "metadata": {},
     "output_type": "execute_result"
    }
   ],
   "source": [
    "#Product Price\n",
    "product_price = soup.find_all('div', class_='zp9xm9 xSxKlK _1heB4J')\n",
    "product_price[0].get_text()"
   ]
  },
  {
   "cell_type": "code",
   "execution_count": 7,
   "metadata": {},
   "outputs": [
    {
     "data": {
      "text/plain": [
       "'166 Terjual'"
      ]
     },
     "execution_count": 7,
     "metadata": {},
     "output_type": "execute_result"
    }
   ],
   "source": [
    "#Total sold products/month\n",
    "product_sold = soup.find_all('div', class_='_2VIlt8')\n",
    "product_sold[0].get_text()\n"
   ]
  },
  {
   "cell_type": "code",
   "execution_count": 8,
   "metadata": {},
   "outputs": [],
   "source": [
    "#LOOPING\n",
    "product_name, product_price, product_sold = [], [], []\n",
    "\n",
    "#Product Name\n",
    "for i in soup.find_all('div', class_='_10Wbs- _5SSWfi UjjMrh'):\n",
    "    product_name.append(i.text)\n",
    "\n",
    "#Product Price\n",
    "for i in soup.find_all('div', class_='zp9xm9 xSxKlK _1heB4J'):\n",
    "    product_price.append(i.text)\n",
    "\n",
    "#Total sold products/month\n",
    "for i in soup.find_all('div', class_='_2VIlt8'):\n",
    "    product_sold.append(i.text)\n"
   ]
  },
  {
   "cell_type": "code",
   "execution_count": 15,
   "metadata": {},
   "outputs": [],
   "source": [
    "#Many pages\n",
    "product_name, product_price, product_sold = [], [], []\n",
    "\n",
    "for page in range(0,2):\n",
    "    main_link= 'https://shopee.co.id/shop/255563049/search?page={}&sortBy=pop'.format(page)\n",
    "    driver.get(main_link)\n",
    "\n",
    "    #Product Name\n",
    "    for i in soup.find_all('div', class_='_10Wbs- _5SSWfi UjjMrh'):\n",
    "        product_name.append(i.text)\n",
    "\n",
    "    #Product Price\n",
    "    for i in soup.find_all('div', class_='zp9xm9 xSxKlK _1heB4J'):\n",
    "        product_price.append(i.text)\n",
    "\n",
    "    #Total sold products/month\n",
    "    for i in soup.find_all('div', class_='_2VIlt8'):\n",
    "        product_sold.append(i.text)\n"
   ]
  },
  {
   "cell_type": "code",
   "execution_count": 16,
   "metadata": {},
   "outputs": [
    {
     "data": {
      "text/plain": [
       "60"
      ]
     },
     "execution_count": 16,
     "metadata": {},
     "output_type": "execute_result"
    }
   ],
   "source": [
    "len(product_name)"
   ]
  },
  {
   "cell_type": "code",
   "execution_count": 17,
   "metadata": {},
   "outputs": [],
   "source": [
    "#SAVE DATA\n",
    "listCols = ['product_name','product_price','product_sold']\n",
    "dict_data = dict(zip(\n",
    "            listCols,\n",
    "                (product_name, \n",
    "                product_price, \n",
    "                product_sold)\n",
    "))"
   ]
  },
  {
   "cell_type": "code",
   "execution_count": 18,
   "metadata": {},
   "outputs": [],
   "source": [
    "import json\n",
    "with open('digimap.json','w') as fp:\n",
    "    json.dump(dict_data, fp)"
   ]
  },
  {
   "cell_type": "code",
   "execution_count": 19,
   "metadata": {},
   "outputs": [
    {
     "data": {
      "text/html": [
       "<div>\n",
       "<style scoped>\n",
       "    .dataframe tbody tr th:only-of-type {\n",
       "        vertical-align: middle;\n",
       "    }\n",
       "\n",
       "    .dataframe tbody tr th {\n",
       "        vertical-align: top;\n",
       "    }\n",
       "\n",
       "    .dataframe thead th {\n",
       "        text-align: right;\n",
       "    }\n",
       "</style>\n",
       "<table border=\"1\" class=\"dataframe\">\n",
       "  <thead>\n",
       "    <tr style=\"text-align: right;\">\n",
       "      <th></th>\n",
       "      <th>product_name</th>\n",
       "      <th>product_price</th>\n",
       "      <th>product_sold</th>\n",
       "    </tr>\n",
       "  </thead>\n",
       "  <tbody>\n",
       "    <tr>\n",
       "      <th>0</th>\n",
       "      <td>Apple Pencil 2nd Generation</td>\n",
       "      <td>Rp2.499.000</td>\n",
       "      <td>166 Terjual</td>\n",
       "    </tr>\n",
       "    <tr>\n",
       "      <th>1</th>\n",
       "      <td>Apple iPhone 12 Pro 256GB Pacific Blue</td>\n",
       "      <td>Rp17.699.000</td>\n",
       "      <td>226 Terjual</td>\n",
       "    </tr>\n",
       "    <tr>\n",
       "      <th>2</th>\n",
       "      <td>Apple iPhone 11 64GB Black</td>\n",
       "      <td>Rp9.999.000</td>\n",
       "      <td>248 Terjual</td>\n",
       "    </tr>\n",
       "    <tr>\n",
       "      <th>3</th>\n",
       "      <td>Apple Watch Series 3 GPS 38MM Space Gray Alumi...</td>\n",
       "      <td>Rp4.999.000</td>\n",
       "      <td>203 Terjual</td>\n",
       "    </tr>\n",
       "    <tr>\n",
       "      <th>4</th>\n",
       "      <td>Apple iPhone 11 128GB (PRODUCT)RED</td>\n",
       "      <td>Rp10.499.000</td>\n",
       "      <td>240 Terjual</td>\n",
       "    </tr>\n",
       "  </tbody>\n",
       "</table>\n",
       "</div>"
      ],
      "text/plain": [
       "                                        product_name product_price  \\\n",
       "0                        Apple Pencil 2nd Generation   Rp2.499.000   \n",
       "1             Apple iPhone 12 Pro 256GB Pacific Blue  Rp17.699.000   \n",
       "2                         Apple iPhone 11 64GB Black   Rp9.999.000   \n",
       "3  Apple Watch Series 3 GPS 38MM Space Gray Alumi...   Rp4.999.000   \n",
       "4                 Apple iPhone 11 128GB (PRODUCT)RED  Rp10.499.000   \n",
       "\n",
       "  product_sold  \n",
       "0  166 Terjual  \n",
       "1  226 Terjual  \n",
       "2  248 Terjual  \n",
       "3  203 Terjual  \n",
       "4  240 Terjual  "
      ]
     },
     "execution_count": 19,
     "metadata": {},
     "output_type": "execute_result"
    }
   ],
   "source": [
    "df = pd.DataFrame(data = dict_data)\n",
    "df.head()"
   ]
  },
  {
   "cell_type": "code",
   "execution_count": 20,
   "metadata": {},
   "outputs": [],
   "source": [
    "df.to_csv('digimap.csv',index=False)"
   ]
  },
  {
   "cell_type": "markdown",
   "metadata": {},
   "source": [
    "## USING API"
   ]
  },
  {
   "cell_type": "code",
   "execution_count": 21,
   "metadata": {},
   "outputs": [],
   "source": [
    "import requests"
   ]
  },
  {
   "cell_type": "code",
   "execution_count": 25,
   "metadata": {},
   "outputs": [],
   "source": [
    "shopee_url = 'https://shopee.co.id'\n",
    "keyword = 'Iphone 12 Pro'\n",
    "\n",
    "header = {\n",
    "    'User-Agent' : 'Chrome', \n",
    "    'Referer' : '{}search?keyword={}'.format(shopee_url, keyword)\n",
    "}\n",
    "\n",
    "url = 'https://shopee.co.id/api/v4/search/search_items?by=relevancy&keyword={}&limit=100&newest=0&order=desc&page_type=search&scenario=PAGE_GLOBAL_SEARCH&version=2'.format(keyword)\n",
    "\n",
    "# API request\n",
    "r = requests.get(url, headers = header).json()\n",
    "\n",
    "#Scraping\n",
    "col_list, price_list, sold_list = [], [], []\n",
    "for item in r['items']:\n",
    "    col_list.append(item['item_basic']['name'])\n",
    "    price_list.append(item['item_basic']['price'])\n",
    "    sold_list.append(item['item_basic']['sold'])"
   ]
  },
  {
   "cell_type": "code",
   "execution_count": 26,
   "metadata": {},
   "outputs": [
    {
     "data": {
      "text/plain": [
       "100"
      ]
     },
     "execution_count": 26,
     "metadata": {},
     "output_type": "execute_result"
    }
   ],
   "source": [
    "len(col_list)"
   ]
  }
 ],
 "metadata": {
  "interpreter": {
   "hash": "5584b0f9aad4236293338a10f58fe6c46beeb7bc3fc0988dd0f3d923fb4d8d28"
  },
  "kernelspec": {
   "display_name": "Python 3.9.7 64-bit",
   "language": "python",
   "name": "python3"
  },
  "language_info": {
   "codemirror_mode": {
    "name": "ipython",
    "version": 3
   },
   "file_extension": ".py",
   "mimetype": "text/x-python",
   "name": "python",
   "nbconvert_exporter": "python",
   "pygments_lexer": "ipython3",
   "version": "3.9.7"
  },
  "orig_nbformat": 4
 },
 "nbformat": 4,
 "nbformat_minor": 2
}
